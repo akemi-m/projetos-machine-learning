{
 "cells": [
  {
   "cell_type": "markdown",
   "id": "d9aa3525",
   "metadata": {},
   "source": [
    "Este Projeto I tem como objetivo explorar diferentes técnicas de aprendizado supervisionado e não supervisionado, aplicadas a um conjunto de dados real.\n",
    "\n",
    "Serão utilizados algoritmos como:\n",
    "\n",
    "- **Decision Tree**: modelo interpretável e estruturado em forma de árvore de decisão, adequado para classificação e regressão.  \n",
    "- **K-Nearest Neighbors (KNN)**: algoritmo baseado em instâncias, que realiza previsões considerando a proximidade entre amostras.  \n",
    "- **K-Means**: técnica de aprendizado não supervisionado voltada para agrupar dados em clusters de acordo com sua similaridade.  \n",
    "\n",
    "A partir da aplicação desses métodos, o projeto busca compreender os pontos fortes e limitações de cada abordagem, bem como analisar seu desempenho em diferentes cenários."
   ]
  },
  {
   "cell_type": "markdown",
   "id": "cc159348",
   "metadata": {},
   "source": [
    "**Imports:**"
   ]
  },
  {
   "cell_type": "code",
   "execution_count": 2,
   "id": "60279d87",
   "metadata": {},
   "outputs": [],
   "source": [
    "import pandas as pd"
   ]
  },
  {
   "cell_type": "markdown",
   "id": "1409c5ca",
   "metadata": {},
   "source": [
    "**Leitura da base:**"
   ]
  },
  {
   "cell_type": "code",
   "execution_count": 3,
   "id": "1ef03539",
   "metadata": {},
   "outputs": [],
   "source": [
    "df = pd.read_csv('covid_data.csv', low_memory=False)"
   ]
  },
  {
   "cell_type": "markdown",
   "id": "5a802210",
   "metadata": {},
   "source": [
    "## Exploração de dados\n",
    "\n",
    "A **análise inicial** do conjunto de dados inclui a **descrição da natureza das variáveis, estatísticas descritivas e visualizações** para compreender a distribuição e relevância das informações.\n",
    "\n",
    "### Contexto da Base de Dados\n",
    "\n",
    "O dataset utilizado neste projeto contém um **grande volume de informações anonimizadas de pacientes**, abrangendo tanto características gerais quanto condições pré-existentes.  \n",
    "\n",
    "No total, são disponibilizadas **21 variáveis (colunas)** que representam atributos clínicos e demográficos, e **1.048.575 registros (linhas)**, correspondentes a pacientes únicos.  \n",
    "\n",
    "As variáveis são mistas, incluindo **atributos numéricos e categóricos**, além de um conjunto expressivo de **features Booleanas**, nas quais:  \n",
    "- O valor **1 indica \"sim\"**  \n",
    "- O valor **2 indica \"não\"**  \n",
    "- Valores como **97** e **99** representam **dados ausentes ou não informados**  \n",
    "\n",
    "Para os experimentos com **modelos supervisionados**, a variável **target** será **`classification`**, representando o resultado do teste de COVID-19 dos pacientes.  \n",
    "\n",
    "### Descrição e Estatísticas Descritivas das colunas\n",
    "\n",
    "| Variável                  | Descrição                                                                                             | Estatísticas Descritivas (%)                                                                     |\n",
    "| ------------------------- | ----------------------------------------------------------------------------------------------------- | ------------------------------------------------------------------------------------------------ |\n",
    "| **USMER**                 | Indica se o paciente foi tratado em unidades médicas de primeiro, segundo ou terceiro nível.          | 1º nível: 36,8%<br>2º nível: 63,2%                                                               |\n",
    "| **MEDICAL\\_UNIT**         | Tipo de instituição do Sistema Nacional de Saúde que prestou o atendimento.                           | Unidade 12: 57,5%<br>Unidade 4: 30,0%<br>Demais unidades: 12,5%                                  |\n",
    "| **SEX**                   | 1 para feminino e 2 para masculino.                                                                   | Feminino: 50,1%<br>Masculino: 49,9%                                                              |\n",
    "| **PATIENT\\_TYPE**         | Tipo de atendimento recebido na unidade. 1 para alta domiciliar e 2 para hospitalização.              | Alta domiciliar: 80,9%<br>Hospitalização: 19,1%                                                  |\n",
    "| **DATE\\_DIED**            | Se o paciente faleceu, indica a data da morte; caso contrário, 9999-99-99.                            | Vivos: 92,7%<br>Óbitos registrados: 7,3%                                                         |\n",
    "| **INTUBED**               | Se o paciente foi conectado ao ventilador.                                                            | Desconhecido (97): 80,9%<br>Não intubado (2): 15,2%<br>Intubado (1): 3,2%<br>Ignorado (99): 0,7% |\n",
    "| **PNEUMONIA**             | Se o paciente já apresentava inflamação nos alvéolos pulmonares.                                      | Não: 85,1%<br>Sim: 13,4%<br>Ignorado: 1,5%                                                       |\n",
    "| **AGE**                   | Idade do paciente.                                                                                    | Moda: 30 anos (2,6%)<br>Faixa 28–34: \\~7,3%                                                      |\n",
    "| **PREGNANT**              | Se o paciente está grávida.                                                                           | Não aplicável: 50,0%<br>Não grávida: 48,9%<br>Grávida: 0,8%<br>Ignorado: 0,3%  |\n",
    "| **DIABETES**              | Se o paciente tem diabetes.                                                                           | Não: 87,7%<br>Sim: 11,9%<br>Ignorado: 0,3%                                                       |\n",
    "| **COPD**                  | Se o paciente tem DPOC.                                                                               | Não: 98,3%<br>Sim: 1,4%<br>Ignorado: 0,3%                                                        |\n",
    "| **ASTHMA**                | Se o paciente tem asma.                                                                               | Não: 96,7%<br>Sim: 3,0%<br>Ignorado: 0,3%                                                        |\n",
    "| **INMSUPR**               | Se o paciente é imunossuprimido.                                                                      | Não: 98,3%<br>Sim: 1,4%<br>Ignorado: 0,3%                                                        |\n",
    "| **HIPERTENSION**          | Se o paciente tem hipertensão.                                                                        | Não: 84,1%<br>Sim: 15,5%<br>Ignorado: 0,3%                                                       |\n",
    "| **OTHER\\_DISEASE**        | Se o paciente tem outra doença.                                                                       | Não: 96,8%<br>Sim: 2,7%<br>Ignorado: 0,5%                                                        |\n",
    "| **CARDIOVASCULAR**        | Se o paciente tem doença cardíaca ou vascular.                                                        | Não: 97,7%<br>Sim: 2,0%<br>Ignorado: 0,3%                                                        |\n",
    "| **OBESITY**               | Se o paciente é obeso.                                                                                | Não: 84,4%<br>Sim: 15,2%<br>Ignorado: 0,3%                                                       |\n",
    "| **RENAL\\_CHRONIC**        | Se o paciente tem doença renal crônica.                                                               | Não: 97,9%<br>Sim: 1,8%<br>Ignorado: 0,3%                                                        |\n",
    "| **TOBACCO**               | Se o paciente faz uso de tabaco.                                                                      | Não: 91,7%<br>Sim: 8,0%<br>Ignorado: 0,3%                                                        |\n",
    "| **CLASIFFICATION\\_FINAL** | Resultados do teste de covid. Valores 1-3 = positivo em diferentes graus; ≥4 = negativo/inconclusivo. | Positivo (1–3): 37,4%<br>Negativo/Inconclusivo (≥4): 62,6%                                       |\n",
    "| **ICU**                   | Indica se o paciente foi internado em UTI.                                                            | Desconhecido: 80,9%<br>Não: 16,8%<br>Sim: 1,6%<br>Ignorado: 0,7%               |\n"
   ]
  },
  {
   "cell_type": "code",
   "execution_count": 36,
   "id": "8d0c7a17",
   "metadata": {},
   "outputs": [
    {
     "name": "stdout",
     "output_type": "stream",
     "text": [
      "<class 'pandas.core.frame.DataFrame'>\n",
      "RangeIndex: 1048575 entries, 0 to 1048574\n",
      "Data columns (total 21 columns):\n",
      " #   Column                Non-Null Count    Dtype \n",
      "---  ------                --------------    ----- \n",
      " 0   USMER                 1048575 non-null  int64 \n",
      " 1   MEDICAL_UNIT          1048575 non-null  int64 \n",
      " 2   SEX                   1048575 non-null  int64 \n",
      " 3   PATIENT_TYPE          1048575 non-null  int64 \n",
      " 4   DATE_DIED             76942 non-null    object\n",
      " 5   INTUBED               1048575 non-null  int64 \n",
      " 6   PNEUMONIA             1048575 non-null  int64 \n",
      " 7   AGE                   1048575 non-null  int64 \n",
      " 8   PREGNANT              1048575 non-null  int64 \n",
      " 9   DIABETES              1048575 non-null  int64 \n",
      " 10  COPD                  1048575 non-null  int64 \n",
      " 11  ASTHMA                1048575 non-null  int64 \n",
      " 12  INMSUPR               1048575 non-null  int64 \n",
      " 13  HIPERTENSION          1048575 non-null  int64 \n",
      " 14  OTHER_DISEASE         1048575 non-null  int64 \n",
      " 15  CARDIOVASCULAR        1048575 non-null  int64 \n",
      " 16  OBESITY               1048575 non-null  int64 \n",
      " 17  RENAL_CHRONIC         1048575 non-null  int64 \n",
      " 18  TOBACCO               1048575 non-null  int64 \n",
      " 19  CLASIFFICATION_FINAL  1048575 non-null  int64 \n",
      " 20  ICU                   1048575 non-null  int64 \n",
      "dtypes: int64(20), object(1)\n",
      "memory usage: 168.0+ MB\n"
     ]
    }
   ],
   "source": [
    "df.info()"
   ]
  },
  {
   "cell_type": "code",
   "execution_count": 9,
   "id": "d41d6361",
   "metadata": {},
   "outputs": [
    {
     "data": {
      "text/plain": [
       "USMER\n",
       "2    662903\n",
       "1    385672\n",
       "Name: count, dtype: int64"
      ]
     },
     "execution_count": 9,
     "metadata": {},
     "output_type": "execute_result"
    }
   ],
   "source": [
    "df['USMER'].value_counts()"
   ]
  },
  {
   "cell_type": "code",
   "execution_count": 11,
   "id": "f1641f63",
   "metadata": {},
   "outputs": [
    {
     "data": {
      "text/plain": [
       "MEDICAL_UNIT\n",
       "12    602995\n",
       "4     314405\n",
       "6      40584\n",
       "9      38116\n",
       "3      19175\n",
       "8      10399\n",
       "10      7873\n",
       "5       7244\n",
       "11      5577\n",
       "13       996\n",
       "7        891\n",
       "2        169\n",
       "1        151\n",
       "Name: count, dtype: int64"
      ]
     },
     "execution_count": 11,
     "metadata": {},
     "output_type": "execute_result"
    }
   ],
   "source": [
    "df['MEDICAL_UNIT'].value_counts()"
   ]
  },
  {
   "cell_type": "code",
   "execution_count": 14,
   "id": "20946377",
   "metadata": {},
   "outputs": [
    {
     "data": {
      "text/plain": [
       "SEX\n",
       "1    525064\n",
       "2    523511\n",
       "Name: count, dtype: int64"
      ]
     },
     "execution_count": 14,
     "metadata": {},
     "output_type": "execute_result"
    }
   ],
   "source": [
    "df['SEX'].value_counts()"
   ]
  },
  {
   "cell_type": "code",
   "execution_count": 15,
   "id": "984d1e64",
   "metadata": {},
   "outputs": [
    {
     "data": {
      "text/plain": [
       "PATIENT_TYPE\n",
       "1    848544\n",
       "2    200031\n",
       "Name: count, dtype: int64"
      ]
     },
     "execution_count": 15,
     "metadata": {},
     "output_type": "execute_result"
    }
   ],
   "source": [
    "df['PATIENT_TYPE'].value_counts()"
   ]
  },
  {
   "cell_type": "code",
   "execution_count": 16,
   "id": "56d3892b",
   "metadata": {},
   "outputs": [
    {
     "data": {
      "text/plain": [
       "DATE_DIED\n",
       "9999-99-99    971633\n",
       "06/07/2020      1000\n",
       "07/07/2020       996\n",
       "13/07/2020       990\n",
       "16/06/2020       979\n",
       "               ...  \n",
       "25/12/2020         1\n",
       "01/01/2021         1\n",
       "02/01/2021         1\n",
       "07/01/2021         1\n",
       "22/04/2021         1\n",
       "Name: count, Length: 401, dtype: int64"
      ]
     },
     "execution_count": 16,
     "metadata": {},
     "output_type": "execute_result"
    }
   ],
   "source": [
    "df['DATE_DIED'].value_counts()"
   ]
  },
  {
   "cell_type": "code",
   "execution_count": 17,
   "id": "0a1199db",
   "metadata": {},
   "outputs": [
    {
     "data": {
      "text/plain": [
       "INTUBED\n",
       "97    848544\n",
       "2     159050\n",
       "1      33656\n",
       "99      7325\n",
       "Name: count, dtype: int64"
      ]
     },
     "execution_count": 17,
     "metadata": {},
     "output_type": "execute_result"
    }
   ],
   "source": [
    "df['INTUBED'].value_counts()"
   ]
  },
  {
   "cell_type": "code",
   "execution_count": 18,
   "id": "aa309fb4",
   "metadata": {},
   "outputs": [
    {
     "data": {
      "text/plain": [
       "PNEUMONIA\n",
       "2     892534\n",
       "1     140038\n",
       "99     16003\n",
       "Name: count, dtype: int64"
      ]
     },
     "execution_count": 18,
     "metadata": {},
     "output_type": "execute_result"
    }
   ],
   "source": [
    "df['PNEUMONIA'].value_counts()"
   ]
  },
  {
   "cell_type": "code",
   "execution_count": 20,
   "id": "77e586a5",
   "metadata": {},
   "outputs": [
    {
     "data": {
      "text/plain": [
       "AGE\n",
       "30     27010\n",
       "31     25927\n",
       "28     25313\n",
       "29     25134\n",
       "34     24872\n",
       "       ...  \n",
       "114        2\n",
       "115        2\n",
       "111        1\n",
       "121        1\n",
       "113        1\n",
       "Name: count, Length: 121, dtype: int64"
      ]
     },
     "execution_count": 20,
     "metadata": {},
     "output_type": "execute_result"
    }
   ],
   "source": [
    "df['AGE'].value_counts()"
   ]
  },
  {
   "cell_type": "code",
   "execution_count": 21,
   "id": "127b792e",
   "metadata": {},
   "outputs": [
    {
     "data": {
      "text/plain": [
       "PREGNANT\n",
       "97    523511\n",
       "2     513179\n",
       "1       8131\n",
       "98      3754\n",
       "Name: count, dtype: int64"
      ]
     },
     "execution_count": 21,
     "metadata": {},
     "output_type": "execute_result"
    }
   ],
   "source": [
    "df['PREGNANT'].value_counts()"
   ]
  },
  {
   "cell_type": "code",
   "execution_count": 22,
   "id": "f08b9a13",
   "metadata": {},
   "outputs": [
    {
     "data": {
      "text/plain": [
       "DIABETES\n",
       "2     920248\n",
       "1     124989\n",
       "98      3338\n",
       "Name: count, dtype: int64"
      ]
     },
     "execution_count": 22,
     "metadata": {},
     "output_type": "execute_result"
    }
   ],
   "source": [
    "df['DIABETES'].value_counts()"
   ]
  },
  {
   "cell_type": "code",
   "execution_count": 23,
   "id": "7253f22c",
   "metadata": {},
   "outputs": [
    {
     "data": {
      "text/plain": [
       "COPD\n",
       "2     1030510\n",
       "1       15062\n",
       "98       3003\n",
       "Name: count, dtype: int64"
      ]
     },
     "execution_count": 23,
     "metadata": {},
     "output_type": "execute_result"
    }
   ],
   "source": [
    "df['COPD'].value_counts()"
   ]
  },
  {
   "cell_type": "code",
   "execution_count": 24,
   "id": "c78c9ebc",
   "metadata": {},
   "outputs": [
    {
     "data": {
      "text/plain": [
       "ASTHMA\n",
       "2     1014024\n",
       "1       31572\n",
       "98       2979\n",
       "Name: count, dtype: int64"
      ]
     },
     "execution_count": 24,
     "metadata": {},
     "output_type": "execute_result"
    }
   ],
   "source": [
    "df['ASTHMA'].value_counts()"
   ]
  },
  {
   "cell_type": "code",
   "execution_count": 25,
   "id": "3d0a88c5",
   "metadata": {},
   "outputs": [
    {
     "data": {
      "text/plain": [
       "INMSUPR\n",
       "2     1031001\n",
       "1       14170\n",
       "98       3404\n",
       "Name: count, dtype: int64"
      ]
     },
     "execution_count": 25,
     "metadata": {},
     "output_type": "execute_result"
    }
   ],
   "source": [
    "df['INMSUPR'].value_counts()"
   ]
  },
  {
   "cell_type": "code",
   "execution_count": 26,
   "id": "3a41b585",
   "metadata": {},
   "outputs": [
    {
     "data": {
      "text/plain": [
       "HIPERTENSION\n",
       "2     882742\n",
       "1     162729\n",
       "98      3104\n",
       "Name: count, dtype: int64"
      ]
     },
     "execution_count": 26,
     "metadata": {},
     "output_type": "execute_result"
    }
   ],
   "source": [
    "df['HIPERTENSION'].value_counts()"
   ]
  },
  {
   "cell_type": "code",
   "execution_count": 27,
   "id": "a86eb6a4",
   "metadata": {},
   "outputs": [
    {
     "data": {
      "text/plain": [
       "OTHER_DISEASE\n",
       "2     1015490\n",
       "1       28040\n",
       "98       5045\n",
       "Name: count, dtype: int64"
      ]
     },
     "execution_count": 27,
     "metadata": {},
     "output_type": "execute_result"
    }
   ],
   "source": [
    "df['OTHER_DISEASE'].value_counts()"
   ]
  },
  {
   "cell_type": "code",
   "execution_count": 28,
   "id": "7e1f47ea",
   "metadata": {},
   "outputs": [
    {
     "data": {
      "text/plain": [
       "CARDIOVASCULAR\n",
       "2     1024730\n",
       "1       20769\n",
       "98       3076\n",
       "Name: count, dtype: int64"
      ]
     },
     "execution_count": 28,
     "metadata": {},
     "output_type": "execute_result"
    }
   ],
   "source": [
    "df['CARDIOVASCULAR'].value_counts()"
   ]
  },
  {
   "cell_type": "code",
   "execution_count": 29,
   "id": "defc48a8",
   "metadata": {},
   "outputs": [
    {
     "data": {
      "text/plain": [
       "OBESITY\n",
       "2     885727\n",
       "1     159816\n",
       "98      3032\n",
       "Name: count, dtype: int64"
      ]
     },
     "execution_count": 29,
     "metadata": {},
     "output_type": "execute_result"
    }
   ],
   "source": [
    "df['OBESITY'].value_counts()"
   ]
  },
  {
   "cell_type": "code",
   "execution_count": 30,
   "id": "6a2d5d8d",
   "metadata": {},
   "outputs": [
    {
     "data": {
      "text/plain": [
       "RENAL_CHRONIC\n",
       "2     1026665\n",
       "1       18904\n",
       "98       3006\n",
       "Name: count, dtype: int64"
      ]
     },
     "execution_count": 30,
     "metadata": {},
     "output_type": "execute_result"
    }
   ],
   "source": [
    "df['RENAL_CHRONIC'].value_counts()"
   ]
  },
  {
   "cell_type": "code",
   "execution_count": 31,
   "id": "a6a298c7",
   "metadata": {},
   "outputs": [
    {
     "data": {
      "text/plain": [
       "TOBACCO\n",
       "2     960979\n",
       "1      84376\n",
       "98      3220\n",
       "Name: count, dtype: int64"
      ]
     },
     "execution_count": 31,
     "metadata": {},
     "output_type": "execute_result"
    }
   ],
   "source": [
    "df['TOBACCO'].value_counts()"
   ]
  },
  {
   "cell_type": "code",
   "execution_count": 32,
   "id": "c9d7ede7",
   "metadata": {},
   "outputs": [
    {
     "data": {
      "text/plain": [
       "CLASIFFICATION_FINAL\n",
       "7    499250\n",
       "3    381527\n",
       "6    128133\n",
       "5     26091\n",
       "1      8601\n",
       "4      3122\n",
       "2      1851\n",
       "Name: count, dtype: int64"
      ]
     },
     "execution_count": 32,
     "metadata": {},
     "output_type": "execute_result"
    }
   ],
   "source": [
    "df['CLASIFFICATION_FINAL'].value_counts()"
   ]
  },
  {
   "cell_type": "code",
   "execution_count": 33,
   "id": "f7dfd5c2",
   "metadata": {},
   "outputs": [
    {
     "data": {
      "text/plain": [
       "ICU\n",
       "97    848544\n",
       "2     175685\n",
       "1      16858\n",
       "99      7488\n",
       "Name: count, dtype: int64"
      ]
     },
     "execution_count": 33,
     "metadata": {},
     "output_type": "execute_result"
    }
   ],
   "source": [
    "df['ICU'].value_counts()"
   ]
  },
  {
   "cell_type": "code",
   "execution_count": 19,
   "id": "d940d23e",
   "metadata": {},
   "outputs": [
    {
     "name": "stdout",
     "output_type": "stream",
     "text": [
      "<class 'pandas.core.frame.DataFrame'>\n",
      "RangeIndex: 1048575 entries, 0 to 1048574\n",
      "Data columns (total 21 columns):\n",
      " #   Column                Non-Null Count    Dtype \n",
      "---  ------                --------------    ----- \n",
      " 0   USMER                 1048575 non-null  int64 \n",
      " 1   MEDICAL_UNIT          1048575 non-null  int64 \n",
      " 2   SEX                   1048575 non-null  int64 \n",
      " 3   PATIENT_TYPE          1048575 non-null  int64 \n",
      " 4   DATE_DIED             1048575 non-null  object\n",
      " 5   INTUBED               1048575 non-null  int64 \n",
      " 6   PNEUMONIA             1048575 non-null  int64 \n",
      " 7   AGE                   1048575 non-null  int64 \n",
      " 8   PREGNANT              1048575 non-null  int64 \n",
      " 9   DIABETES              1048575 non-null  int64 \n",
      " 10  COPD                  1048575 non-null  int64 \n",
      " 11  ASTHMA                1048575 non-null  int64 \n",
      " 12  INMSUPR               1048575 non-null  int64 \n",
      " 13  HIPERTENSION          1048575 non-null  int64 \n",
      " 14  OTHER_DISEASE         1048575 non-null  int64 \n",
      " 15  CARDIOVASCULAR        1048575 non-null  int64 \n",
      " 16  OBESITY               1048575 non-null  int64 \n",
      " 17  RENAL_CHRONIC         1048575 non-null  int64 \n",
      " 18  TOBACCO               1048575 non-null  int64 \n",
      " 19  CLASIFFICATION_FINAL  1048575 non-null  int64 \n",
      " 20  ICU                   1048575 non-null  int64 \n",
      "dtypes: int64(20), object(1)\n",
      "memory usage: 168.0+ MB\n"
     ]
    }
   ],
   "source": [
    "df.info()"
   ]
  }
 ],
 "metadata": {
  "kernelspec": {
   "display_name": "env",
   "language": "python",
   "name": "python3"
  },
  "language_info": {
   "codemirror_mode": {
    "name": "ipython",
    "version": 3
   },
   "file_extension": ".py",
   "mimetype": "text/x-python",
   "name": "python",
   "nbconvert_exporter": "python",
   "pygments_lexer": "ipython3",
   "version": "3.13.5"
  }
 },
 "nbformat": 4,
 "nbformat_minor": 5
}
