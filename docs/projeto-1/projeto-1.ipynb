{
 "cells": [
  {
   "cell_type": "markdown",
   "id": "d9aa3525",
   "metadata": {},
   "source": [
    "Imports"
   ]
  },
  {
   "cell_type": "code",
   "execution_count": null,
   "id": "60279d87",
   "metadata": {},
   "outputs": [],
   "source": [
    "import pandas as pd"
   ]
  },
  {
   "cell_type": "markdown",
   "id": "1409c5ca",
   "metadata": {},
   "source": [
    "Leitura da base"
   ]
  },
  {
   "cell_type": "code",
   "execution_count": null,
   "id": "1ef03539",
   "metadata": {},
   "outputs": [],
   "source": [
    "df = pd.read_csv('covid_data.csv', low_memory=False)"
   ]
  },
  {
   "cell_type": "markdown",
   "id": "f43806f2",
   "metadata": {},
   "source": [
    "Teste"
   ]
  },
  {
   "cell_type": "code",
   "execution_count": null,
   "id": "6ee7c4c3",
   "metadata": {},
   "outputs": [],
   "source": [
    "print('hello')"
   ]
  }
 ],
 "metadata": {
  "kernelspec": {
   "display_name": "env",
   "language": "python",
   "name": "python3"
  },
  "language_info": {
   "codemirror_mode": {
    "name": "ipython",
    "version": 3
   },
   "file_extension": ".py",
   "mimetype": "text/x-python",
   "name": "python",
   "nbconvert_exporter": "python",
   "pygments_lexer": "ipython3",
   "version": "3.12.5"
  }
 },
 "nbformat": 4,
 "nbformat_minor": 5
}
